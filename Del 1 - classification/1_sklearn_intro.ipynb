{
 "cells": [
  {
   "cell_type": "code",
   "execution_count": null,
   "metadata": {},
   "outputs": [],
   "source": [
    "import numpy as np\n",
    "import pandas as pd\n",
    "\n",
    "# Läs datafilen\n",
    "filename = './features_30_sec.csv'\n",
    "df = pd.read_csv(filename, header = 0)"
   ]
  },
  {
   "cell_type": "code",
   "execution_count": null,
   "metadata": {},
   "outputs": [],
   "source": [
    "# Visa de 5 första raderna\n",
    "df.head()"
   ]
  },
  {
   "cell_type": "code",
   "execution_count": null,
   "metadata": {},
   "outputs": [],
   "source": [
    "# välj kolumnen \"filename\"\n",
    "df.filename"
   ]
  },
  {
   "cell_type": "code",
   "execution_count": null,
   "metadata": {},
   "outputs": [],
   "source": [
    "# Välj några features och plocka ut labels\n",
    "features = df[['chroma_stft_mean', 'rms_var', 'spectral_centroid_var']]\n",
    "labels = df.label\n",
    "\n",
    "# En vanlig notering för features och labels är X och y. Vi kommer att använda det här.\n",
    "X = features\n",
    "y = labels"
   ]
  },
  {
   "cell_type": "code",
   "execution_count": null,
   "metadata": {},
   "outputs": [],
   "source": [
    "# Splitta i train/test datasets\n",
    "\n",
    "from sklearn.model_selection import train_test_split\n",
    "\n",
    "# By default resulterar train_test_split i en (random) 75%/25%-split\n",
    "X_train, X_test, y_train, y_test = train_test_split(features, labels, random_state=42)"
   ]
  },
  {
   "cell_type": "code",
   "execution_count": null,
   "metadata": {},
   "outputs": [],
   "source": [
    "X_train"
   ]
  },
  {
   "cell_type": "code",
   "execution_count": null,
   "metadata": {},
   "outputs": [],
   "source": [
    "y_train"
   ]
  },
  {
   "cell_type": "code",
   "execution_count": null,
   "metadata": {},
   "outputs": [],
   "source": [
    "X_test"
   ]
  },
  {
   "cell_type": "code",
   "execution_count": null,
   "metadata": {},
   "outputs": [],
   "source": [
    "y_test"
   ]
  },
  {
   "cell_type": "markdown",
   "metadata": {},
   "source": [
    "# Vad är det för data?\n",
    "\n",
    "Det är 30-sekunders utdrag från 100 låtar från 10 olika genrer (=1000 låtar).\n",
    "Ur låtarna har man extraherat olika features (chroma_stft_mean, rms_mean, spectral_centroid_var etc etc etc.). Vad featuresarna innebär får du fråga någon annan än mig men det har något att göra med ljudet :)\n",
    "\n",
    "Om du är intresserad av att se (och höra) orginaldatat kan du hitta det här\n",
    "https://www.kaggle.com/datasets/andradaolteanu/gtzan-dataset-music-genre-classification"
   ]
  },
  {
   "cell_type": "code",
   "execution_count": null,
   "metadata": {},
   "outputs": [],
   "source": []
  }
 ],
 "metadata": {
  "kernelspec": {
   "display_name": "Python 3",
   "language": "python",
   "name": "python3"
  },
  "language_info": {
   "codemirror_mode": {
    "name": "ipython",
    "version": 3
   },
   "file_extension": ".py",
   "mimetype": "text/x-python",
   "name": "python",
   "nbconvert_exporter": "python",
   "pygments_lexer": "ipython3",
   "version": "3.7.3"
  }
 },
 "nbformat": 4,
 "nbformat_minor": 4
}
