{
 "cells": [
  {
   "cell_type": "markdown",
   "metadata": {},
   "source": [
    "# Förberedelser\n",
    "Som förra gången läser vi in data och separerar i train- och test-dataset"
   ]
  },
  {
   "cell_type": "code",
   "execution_count": null,
   "metadata": {},
   "outputs": [],
   "source": [
    "import numpy as np\n",
    "import pandas as pd\n",
    "\n",
    "# Läs datafilen\n",
    "filename = './features_30_sec.csv'\n",
    "df = pd.read_csv(filename, header = 0)\n"
   ]
  },
  {
   "cell_type": "code",
   "execution_count": null,
   "metadata": {},
   "outputs": [],
   "source": [
    "# Visa de första 5 raderna\n",
    "df.head()"
   ]
  },
  {
   "cell_type": "code",
   "execution_count": null,
   "metadata": {},
   "outputs": [],
   "source": [
    "# välj kolumnen \"filename\"\n",
    "df.filename"
   ]
  },
  {
   "cell_type": "code",
   "execution_count": null,
   "metadata": {},
   "outputs": [],
   "source": [
    "# Välj några features och plocka ut labels\n",
    "features = df[['chroma_stft_mean', 'rms_var', 'spectral_centroid_var']]\n",
    "labels = df.label\n",
    "\n",
    "# En vanlig notering för features och labels är X och y. Vi kommer att använda det här.\n",
    "X = features\n",
    "y = labels"
   ]
  },
  {
   "cell_type": "code",
   "execution_count": null,
   "metadata": {},
   "outputs": [],
   "source": [
    "# Splitta i train/test datasets\n",
    "\n",
    "from sklearn.model_selection import train_test_split\n",
    "\n",
    "# By default resulterar train_test_split i en (random) 75%/25%-split\n",
    "X_train, X_test, y_train, y_test = train_test_split(features, labels, random_state=42)"
   ]
  },
  {
   "cell_type": "markdown",
   "metadata": {},
   "source": [
    "# Decision tree classifier\n",
    "\n",
    "Nu ska vi använda en mycket simpel klassifierare - ett decision tree - till att klassifiera musik i genres.\n",
    "\n",
    "Ett decision tree är typ som flera lager av if-satser.\n",
    "Varje nod ställer en true/false-fråga och om det stämmer/inte stämmer propagerar man ner i trädet tills man kommer till en rot-nod där en klass tilldelas."
   ]
  },
  {
   "cell_type": "code",
   "execution_count": null,
   "metadata": {},
   "outputs": [],
   "source": [
    "from sklearn.tree import DecisionTreeClassifier\n",
    "\n",
    "# Skapa ett decision tree classifier\n",
    "clf = DecisionTreeClassifier(max_depth=5, random_state=42)\n",
    "\n",
    "# Kör clf.fit() för att träna classifiern på träningsdata.\n",
    "clf.fit(X_train, y_train)"
   ]
  },
  {
   "cell_type": "code",
   "execution_count": null,
   "metadata": {},
   "outputs": [],
   "source": [
    "# Nu kan vi se vad vi får för resultat av olika saker från vårt testdata genom att köra predict\n",
    "clf.predict(X_test.iloc[:10,:])"
   ]
  },
  {
   "cell_type": "code",
   "execution_count": null,
   "metadata": {},
   "outputs": [],
   "source": [
    "# y_test innehåller facit för samma data\n",
    "y_test.iloc[:10]"
   ]
  },
  {
   "cell_type": "code",
   "execution_count": null,
   "metadata": {},
   "outputs": [],
   "source": [
    "# Lite snyggare printat så kan vi enkelt jämföra vår modell med facit.\n",
    "for element in clf.predict(X_test.iloc[:10,:]):\n",
    "  print(element.ljust(10), end='')\n",
    "print()\n",
    "for element in y_test.iloc[:10]:\n",
    "  print(element.ljust(10), end='')"
   ]
  },
  {
   "cell_type": "code",
   "execution_count": null,
   "metadata": {},
   "outputs": [],
   "source": [
    "# Nu kan vi beräkna accuracy (antal rätt/antal tester på hela test)\n",
    "\n",
    "# Baseline är slumpad gissning: 1/10 = 0.1 eftersom det finns 10 klasser\n",
    "# 'blues', 'classical', 'country', 'disco', 'hiphop', 'jazz', 'metal', 'pop', 'reggae', 'rock'\n",
    "# Kan vi slå baseline har vi gjort succé!\n",
    "clf.score(X_test, y_test)\n"
   ]
  },
  {
   "cell_type": "code",
   "execution_count": null,
   "metadata": {},
   "outputs": [],
   "source": [
    "# En kul grej är att vi kan skriva ut trädet för att se hur det bestämmer sig för olika klasser.\n",
    "\n",
    "from sklearn.tree import export_graphviz\n",
    "# Kör denna cell och copy-pasta output till https://dreampuf.github.io/GraphvizOnline\n",
    "tree_text = export_graphviz(clf,\n",
    "                     feature_names = feature_names, \n",
    "                     class_names=clf.classes_,\n",
    "                     filled = True)\n",
    "print(tree_text.replace('\\\\n', '\\n'))"
   ]
  },
  {
   "cell_type": "markdown",
   "metadata": {},
   "source": [
    "# Låt modellen förklara sig!\n",
    "Många ML-modeller har förmågan att berätta vilka features som är viktigast. Det kan hjälpa en att förstå vilka features man ska använda eller inte när man skapar modellen. (Högre = mer viktig)"
   ]
  },
  {
   "cell_type": "code",
   "execution_count": null,
   "metadata": {},
   "outputs": [],
   "source": [
    "for index, feature in enumerate(feature_names):\n",
    "    print(f'{feature.ljust(25, \" \")} {clf.feature_importances_[index]}')"
   ]
  },
  {
   "cell_type": "markdown",
   "metadata": {},
   "source": [
    "## Egen övning\n",
    "Testa andra djup i trädet. \n",
    "\n",
    "Testa andra features än de tre valda. Ta hjälp av feature_importances_ för att välja de bästa!\n",
    "\n",
    "Se om du kan slå min accurracy på 0.4!"
   ]
  },
  {
   "cell_type": "code",
   "execution_count": null,
   "metadata": {},
   "outputs": [],
   "source": []
  }
 ],
 "metadata": {
  "kernelspec": {
   "display_name": "Python 3",
   "language": "python",
   "name": "python3"
  },
  "language_info": {
   "codemirror_mode": {
    "name": "ipython",
    "version": 3
   },
   "file_extension": ".py",
   "mimetype": "text/x-python",
   "name": "python",
   "nbconvert_exporter": "python",
   "pygments_lexer": "ipython3",
   "version": "3.7.3"
  }
 },
 "nbformat": 4,
 "nbformat_minor": 4
}
