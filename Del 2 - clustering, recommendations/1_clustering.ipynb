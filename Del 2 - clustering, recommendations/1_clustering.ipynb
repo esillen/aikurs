{
 "cells": [
  {
   "cell_type": "markdown",
   "metadata": {},
   "source": [
    "# Klustring"
   ]
  },
  {
   "cell_type": "code",
   "execution_count": null,
   "metadata": {},
   "outputs": [],
   "source": [
    "import numpy as np\n",
    "import pandas as pd\n",
    "\n",
    "# Läs datafilen\n",
    "filename = './features_30_sec.csv'\n",
    "df = pd.read_csv(filename, header = 0)\n"
   ]
  },
  {
   "cell_type": "code",
   "execution_count": null,
   "metadata": {},
   "outputs": [],
   "source": [
    "# Visa de första 5 raderna\n",
    "df.head()"
   ]
  },
  {
   "cell_type": "code",
   "execution_count": null,
   "metadata": {},
   "outputs": [],
   "source": [
    "# Välj några features och plocka ut labels\n",
    "feature_names = ['chroma_stft_mean', 'rms_var', 'spectral_centroid_var', 'spectral_bandwidth_mean', 'harmony_var', 'harmony_var', 'rolloff_mean']\n",
    "features = df[feature_names]\n",
    "labels = df.label\n",
    "\n",
    "# En vanlig notering för features och labels är X och y. Vi kommer att använda det här.\n",
    "X = features\n",
    "y = labels"
   ]
  },
  {
   "cell_type": "code",
   "execution_count": null,
   "metadata": {},
   "outputs": [],
   "source": [
    "# Notera att vi inte splittar i tränings- och testdataset eftersom vi inte har något att verifiera i unsupervised learning."
   ]
  },
  {
   "cell_type": "code",
   "execution_count": null,
   "metadata": {},
   "outputs": [],
   "source": [
    "# Eftersom k-means använder sig av euklidikt avstånd måste vi skala om våra variabler (Tänk hur tokigt det skulle vara om en variabel är mycket större än den andra - t.ex antal rum vs lägenhetsstorlek i husprisexemplet)\n",
    "# Säg gärna till om detta steg känns oklart så tar vi det igen!\n",
    "from sklearn.preprocessing import StandardScaler\n",
    "\n",
    "scaler = StandardScaler()\n",
    "X_scaled = scaler.fit_transform(X)"
   ]
  },
  {
   "cell_type": "markdown",
   "metadata": {},
   "source": [
    "# K-means clustering"
   ]
  },
  {
   "cell_type": "code",
   "execution_count": null,
   "metadata": {},
   "outputs": [],
   "source": [
    "from sklearn.cluster import KMeans\n",
    "\n",
    "# Vi väljer att algoritmen ska hitta 5 kluster åt oss.\n",
    "NUM_CLUSTERS = 5\n",
    "\n",
    "# Initiera en k-means clustering-modell\n",
    "kmeans = KMeans(n_clusters=NUM_CLUSTERS, random_state=42)\n",
    "# \"Träna\" den med våra datapunker\n",
    "kmeans.fit(X_scaled)"
   ]
  },
  {
   "cell_type": "code",
   "execution_count": null,
   "metadata": {},
   "outputs": [],
   "source": [
    "# Det något missvisande labels_ innehåller data om vilket kluster de olika låtarna tillhör\n",
    "kmeans.labels_"
   ]
  },
  {
   "cell_type": "markdown",
   "metadata": {},
   "source": [
    "# Undersöka kluster\n",
    "Nu ska vi kolla på de olika kluster vi skapat och se om vi kan se något mönster.\n",
    "\n",
    "Idén är att kolla hur många av varje genre det är i varje kluster. Då måste vi först göra lite ommappningar. Sen kan vi plotta den infon"
   ]
  },
  {
   "cell_type": "code",
   "execution_count": null,
   "metadata": {},
   "outputs": [],
   "source": [
    "from collections import defaultdict\n",
    "\n",
    "# Re-assignar till en mer logisk variabel för att göra det tydligare vad kmeans.labels_ faktiskt är\n",
    "cluster_numbers = kmeans.labels_\n",
    "\n",
    "\n",
    "# Här mappar vi om varje kluster till en lista med labels.\n",
    "cluster_labels = defaultdict(list) # defaultdict är en dictionary som är initialiserad med tomma listor\n",
    "for i in range(len(cluster_numbers)):\n",
    "    cluster_number = cluster_numbers[i]\n",
    "    cluster_labels[cluster_number].append(y[i])\n",
    "\n",
    "    \n",
    "from random import sample\n",
    "\n",
    "sample(cluster_labels[0], 10) # Visar 10 random samples från kluster 0"
   ]
  },
  {
   "cell_type": "code",
   "execution_count": null,
   "metadata": {},
   "outputs": [],
   "source": [
    "# Och nu använder vi pythons inbyggda Counter för att räkna antalet av olika distinkta labels i varje kluster\n",
    "from collections import Counter\n",
    "cluster_members = {}\n",
    "for i in range(NUM_CLUSTERS):\n",
    "    cluster_members[i] = Counter(cluster_labels[i])\n",
    "    \n",
    "cluster_members[0] # Visa hur många av varje label kluster 0 har"
   ]
  },
  {
   "cell_type": "code",
   "execution_count": null,
   "metadata": {},
   "outputs": [],
   "source": [
    "# Dags att plotta!\n",
    "from matplotlib.pyplot import bar\n",
    "import matplotlib.pyplot as plt\n",
    "\n",
    "fig, axs = plt.subplots(NUM_CLUSTERS, sharex=False, figsize=(10,15))\n",
    "label_names = y.unique()\n",
    "for i in range(NUM_CLUSTERS):\n",
    "    \n",
    "    label_counts = [cluster_members[i][label] for label in label_names]\n",
    "    \n",
    "    axs[i].bar(label_names, label_counts, label=label_names)\n",
    "    \n",
    "# Resultatet visar hur många av varje label som finns i varje kluster "
   ]
  },
  {
   "cell_type": "markdown",
   "metadata": {},
   "source": [
    "# Egen övning\n",
    "- Ändra vilka features man kollar på samt antalet kluster. \n",
    "  - Tolka vad som händer!\n",
    "  - Testa 10 kluster (dvs antalet genrer). Varför blir det inte perfekt uppdelning i genrer? (Finns flera möjliga anledningar)\n",
    "- Kolla på fler klusteralgoritmer och se om du kan få ett bättre resultat\n",
    "  - https://scikit-learn.org/stable/modules/clustering.html"
   ]
  },
  {
   "cell_type": "code",
   "execution_count": null,
   "metadata": {},
   "outputs": [],
   "source": []
  }
 ],
 "metadata": {
  "kernelspec": {
   "display_name": "Python 3",
   "language": "python",
   "name": "python3"
  },
  "language_info": {
   "codemirror_mode": {
    "name": "ipython",
    "version": 3
   },
   "file_extension": ".py",
   "mimetype": "text/x-python",
   "name": "python",
   "nbconvert_exporter": "python",
   "pygments_lexer": "ipython3",
   "version": "3.7.3"
  }
 },
 "nbformat": 4,
 "nbformat_minor": 4
}
