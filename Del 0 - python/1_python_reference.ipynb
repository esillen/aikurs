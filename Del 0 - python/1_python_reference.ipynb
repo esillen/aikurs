{
 "cells": [
  {
   "cell_type": "markdown",
   "metadata": {},
   "source": [
    "# Del 1 - Python och jupyter crash course\n",
    "\n",
    "Här får du lära dig lite python. Du kan också komma tillbaka till denna notebook och använda den som referens senare.\n",
    "\n",
    "Korta python-fakta\n",
    "- python är case-sensitive\n",
    "- kod-block som i andra språk ofta skrivs mellan måsvingar {}, skrivs i python genom att indentera (exempel nedan). \n",
    "- python är 0-indexerat\n",
    "- det finns ett globalt och ett lokalt scope för variabler."
   ]
  },
  {
   "cell_type": "markdown",
   "metadata": {},
   "source": [
    "# Grundläggande byggstenar"
   ]
  },
  {
   "cell_type": "code",
   "execution_count": null,
   "metadata": {},
   "outputs": [],
   "source": [
    "# Hashtaggar gör kommentarer!\n",
    "\n",
    "a = 5 # Skapa en variabel a och tilldela värdet 5. \n",
    "# Python har ingen strikt typning så man behöver inte säga vilken typ olika variabler ska ha.\n",
    "\n",
    "string = 'hej' # string\n",
    "same_string = \"hej\" # samma string igen. \"\" och '' är två olika ekvivalenta sätt att instantiera strings i python\n",
    "formatted = f\"{same_string} där!\" # Formatterade strängar, exekvera kod i {}-blocken och resultatet bakas in i strängen.\n",
    "\n",
    "truthy = True # Booleans skrivs med stor bokstav\n",
    "falsy = False # Booleans skrivs med stor bokstav\n",
    "noney = None # Motsvarigheten till null i andra språk\n",
    "\n",
    "long_int_ok = 23874698736289746529384756293847562345876234598762345987623459876 # Funkar utmärkt! Python har ingen integer overflow.\n",
    "float_value = 234.4563 # Floating point-värde\n",
    "fraction = 5/7 # Resultatet blir floating-point i python 3 (Använd inte python 2, där är det inte så)\n"
   ]
  },
  {
   "cell_type": "markdown",
   "metadata": {},
   "source": [
    "# Grundläggande datastrukturer"
   ]
  },
  {
   "cell_type": "code",
   "execution_count": null,
   "metadata": {},
   "outputs": [],
   "source": [
    "empty_list = [] # skapa tom en lista (som går att ändra)\n",
    "\n",
    "empty_list.append(5) # Lägg till något i slutet av en lista\n",
    "# Finns en massa andra operationer, se https://www.programiz.com/python-programming/methods/list\n",
    "\n",
    "populated_list= [1, 2, 3, 4, 5] # Skapa en lista med element\n",
    "\n",
    "populated_tuple = (1, 2, 3, 4, 5) # Skapa en \"tuple\" med element, det är som en lista som inte går att ändra och är hashbar, dvs kan användas som nyckel.\n",
    "\n",
    "empty_dictionary = {} # Skapa en tom dictionary (även känt som map i andra språk)\n",
    "\n",
    "empty_dictionary[5] = \"en femma!\" # Tilldela eller ersätt nyckeln 5 med värdet \"en femma!\"\n",
    "\n",
    "empty_dictionary[\"version\"] = 17 # Det går att blanda typer både som nycklar och som värden (om man vill skjuta sig själv i foten alltså) \n",
    "\n",
    "a = {1: 'a', 2: 'b', 3: 'c'} # Skapa en dictionary med några element (1 mappar till 'a', 2 mappar till 'b', 3 mappar till 'c')"
   ]
  },
  {
   "cell_type": "markdown",
   "metadata": {},
   "source": [
    "# Logisk jämförelse och if-staser"
   ]
  },
  {
   "cell_type": "code",
   "execution_count": null,
   "metadata": {},
   "outputs": [],
   "source": [
    "5 == 7 # Logisk jämförelse (returnerar False)\n",
    "\n",
    "a = []\n",
    "b = []\n",
    "a is b # Instansjämförelse (returnerar False)\n",
    "a == b # Likhetsjämförelse (returnerar True)\n",
    "# Varning! a = 5; b = 5; a is b; returnerar True pga interning av värdena från -5 till 257, dvs dessa värden är fördefinierade.\n",
    "# Skulle vi gjort a = 500; b = 500; a is b; får vi False som förväntat.\n",
    "\n",
    "5 in [1, 2, 3, 4, 5] # kollar om värdet finns i listan (returnerar True)\n",
    "\n",
    "5 not in [1, 2, 3, 4, 5] # kollar om värdet INTE finns i listan (returnerar False)\n",
    "\n",
    "# If-satser\n",
    "if True: # if kör blocket efter ':' om det argumentet är \"truthy\"\n",
    "  print('tjo!') # Notera att blocket är indenterat. Då är det för alla block i python. \n",
    "\n",
    "\n",
    "if 1: # Alla 'truthy' värden är ekvivalenta med True i if-satser.\n",
    "  print('ett!')\n",
    "\n",
    "if -1: # Detta är också truthy\n",
    "  print('minus ett')\n",
    "\n",
    "# Truthy: icke-0 nummer-värden, icke-tomma listor, icke-tomma strings, icke-tomma dictionaries\n",
    "# Falsy: 0, 0.0, [], {}, \"\"\n",
    "\n",
    "# Det går att definiera om något är falsy och truthy själv så vid importering av annan kod kan det vara bra att inte anta vad som är truthy och falsy."
   ]
  },
  {
   "cell_type": "markdown",
   "metadata": {},
   "source": [
    "# Viktiga inbyggda funktioner"
   ]
  },
  {
   "cell_type": "code",
   "execution_count": null,
   "metadata": {},
   "outputs": [],
   "source": [
    "print(\"hej!\") # print() printar argumentet\n",
    "\n",
    "abs(-6) # Returnerar absolutbeloppet av argumentet\n",
    "\n",
    "# str(), int(), float(), list(), dict() etc. omvandlar argumentet till datatypen\n",
    "int_to_string = str(5) # Omvandla int till string\n",
    "string_to_int = int('5') # Omvandla string till int\n",
    "int_to_float = float(5) # Omvandla int till float\n",
    "\n",
    "sorted([5,2,8,5,9]) # returnerar en sorterad lista (minst först)\n",
    "\n",
    "len(\"hejsan!\") # len() ger \"längden\" av argumentet (returnerar 7)\n",
    "len([1,6,3,8]) # Returnerar 4"
   ]
  },
  {
   "cell_type": "markdown",
   "metadata": {},
   "source": [
    "# Funktioner och for-loopar"
   ]
  },
  {
   "cell_type": "code",
   "execution_count": null,
   "metadata": {},
   "outputs": [],
   "source": [
    "def my_func(): # Skapa en funktion. Notera kolon i slutet\n",
    "  print('hej')  # Notera att funktions-block måste vara indenterade!!!\n",
    "  \n",
    "my_func() #kalla på en funktion\n",
    "\n",
    "\n",
    "def my_func_2(to_print, also_to_print): # Skapa en funktion med två argument\n",
    "  print(to_print)\n",
    "  print(also_to_print)\n",
    "  \n",
    "my_func_2(\"hej\", \"då\") # Kalla på funktionen med två argument\n",
    "\n",
    "\n",
    "def my_func_3(arg_1 = \"hej\", arg_2 = \"då\"): # Funktion med namngivna defaultargument \n",
    "\n",
    "\n",
    "\n",
    "for i in [1,2,3,4,5]: # Loopa igenom en lista (i blir index-variabeln) Notera kolon\n",
    "  print(i)  # Notera att alla loop-block måste vara indenterade!!!\n",
    "\n",
    "for word in [\"här\", \"kommer\", \"pippi\", \"långstrump\"]: # Det går att loopa igenom en lista med andra element\n",
    "    print(word)\n",
    "\n",
    "for letter in \"tjena!\": # Det går att loopa igenom en string, bokstav för bokstav\n",
    "    print(letter)\n",
    "\n",
    "# Kombinera!\n",
    "def my_func():\n",
    "  print('hej')\n",
    "  for i in [1,2,3,4,5]:\n",
    "    print(i) # Notera att eftersom detta är ett \"block i ett block\" indenteras den två gånger.\n",
    "\n",
    "    \n",
    "# Indentering sker med valfritt antal tabs eller spaces. Jag använder två spaces. Det måste vara samma indentering överallt."
   ]
  },
  {
   "cell_type": "markdown",
   "metadata": {},
   "source": [
    "# Range"
   ]
  },
  {
   "cell_type": "code",
   "execution_count": null,
   "metadata": {},
   "outputs": [],
   "source": [
    "range(5) # Definierar en range från 0 till och med 4 (5st element alltså)\n",
    "\n",
    "# Ranges används framför allt till att loopas igenom\n",
    "# Denna funktion loopar igenom 0,1,2,3,4 och printar dessa. Ekvivalent med for i in [0, 1, 2, 3, 4]\n",
    "for i in range(5):\n",
    "  print(i)\n",
    "\n",
    "# Med två värden blir denna range från 5 till 9 (from-inclusive, to-exclusive). Ekvivalent med for i in [5,6,7,8,9]\n",
    "for i in range(5, 10):\n",
    "  print(i)\n",
    "\n",
    "# Med tre värden blir denna range från 0 till 9 med två steg. Ekvivalent med for i in [0,2,4,6,8]\n",
    "for i in range(0,10,2):\n",
    "  print(i)"
   ]
  },
  {
   "cell_type": "markdown",
   "metadata": {},
   "source": [
    "# Slice"
   ]
  },
  {
   "cell_type": "code",
   "execution_count": null,
   "metadata": {},
   "outputs": [],
   "source": [
    "# Slice plockar ut element från en lista, från en position till en annan position\n",
    "full_list = [\"a\", \"b\", \"c\", \"d\", \"e\", \"f\", \"g\"]\n",
    "sliced_list = full_list[3:6] # Plockar ut elementen från och med position 3 (noll-indexerat) till men inte med element 6 (noll-indexerat)\n",
    "# Resultatet blir att sliced_list = ['d', 'e', 'f']\n",
    "# Notera att full_list inte ändrats utan behåller sina element.\n",
    "\n",
    "sliced_list_2 = full_list[3:] # Här plockar vi ut elementen från och med position 3 (noll-indexerat) till slutet\n",
    "# Resultatet blir att sliced_list_2 = ['d', 'e', 'f', 'g']\n",
    "\n",
    "sliced_list_3 = full_list[:4] # Här plockar vi ut elementen från och med start till men inte med element med position 4\n",
    "# Resultatet blir att sliced_list_3 = ['a', 'b', 'c', 'd']\n",
    "\n",
    "simple_copy = full_list[:] # Här plockar vi ut alla element från start till slut\n",
    "# Resultatet blir att simple_copy = [\"a\", \"b\", \"c\", \"d\", \"e\", \"f\", \"g\"]\n",
    "# MEN! Det är inte samma sak som att skriva simple_copy = full_list. Det skulle bara gjort att simple_copy pekade på full_list.\n",
    "# En full slice [:] är ett enkelt sätt att kopiera hela innehållet i en lista."
   ]
  },
  {
   "cell_type": "markdown",
   "metadata": {},
   "source": [
    "# Importera kod"
   ]
  },
  {
   "cell_type": "code",
   "execution_count": null,
   "metadata": {},
   "outputs": [],
   "source": [
    "import random # Importerar modulen random\n",
    "random.randrange(1, 6) # Kör funktionen randrange() från modulen random"
   ]
  },
  {
   "cell_type": "code",
   "execution_count": null,
   "metadata": {},
   "outputs": [],
   "source": [
    "# Ett annat sätt att importera är att importera funktioner direkt\n",
    "from random import randrange\n",
    "randrange(1, 6)"
   ]
  },
  {
   "cell_type": "code",
   "execution_count": null,
   "metadata": {},
   "outputs": [],
   "source": [
    "# Det är även möjligt att sätta alias på importerade funktioner\n",
    "from random import randrange as rr\n",
    "rr(1, 6)"
   ]
  },
  {
   "cell_type": "code",
   "execution_count": null,
   "metadata": {},
   "outputs": [],
   "source": [
    "# Eller alias på importerade moduler\n",
    "import random as r\n",
    "r.randrange(1, 6)"
   ]
  },
  {
   "cell_type": "code",
   "execution_count": null,
   "metadata": {},
   "outputs": [],
   "source": []
  }
 ],
 "metadata": {
  "kernelspec": {
   "display_name": "Python 3",
   "language": "python",
   "name": "python3"
  },
  "language_info": {
   "codemirror_mode": {
    "name": "ipython",
    "version": 3
   },
   "file_extension": ".py",
   "mimetype": "text/x-python",
   "name": "python",
   "nbconvert_exporter": "python",
   "pygments_lexer": "ipython3",
   "version": "3.7.3"
  }
 },
 "nbformat": 4,
 "nbformat_minor": 4
}
