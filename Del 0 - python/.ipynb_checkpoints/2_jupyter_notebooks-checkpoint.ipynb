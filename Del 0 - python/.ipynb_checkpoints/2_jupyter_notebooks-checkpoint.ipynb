{
 "cells": [
  {
   "cell_type": "markdown",
   "metadata": {},
   "source": [
    "# Del 2 - jupyter notebooks\n",
    "Här lär vi oss de grundläggande kontroller för att använda jupyter notebooks!\n",
    "Gå cell för cell ner i notebooken och läs och utför instruktionerna.\n",
    "\n",
    "Tveka inte med att fråga om hjälp om du kör fast!"
   ]
  },
  {
   "cell_type": "code",
   "execution_count": null,
   "metadata": {},
   "outputs": [],
   "source": [
    "# Ställ din muspekare här och tryck shift+enter för att köra koden i cellen!\n",
    "print(\"bra jobbat!\")"
   ]
  },
  {
   "cell_type": "code",
   "execution_count": null,
   "metadata": {},
   "outputs": [],
   "source": [
    "# Som du ser kördes koden och det som normalt printas till konsolen skrevs ut under kodcellen.\n",
    "# Ett annat sätt att få feedback från jupyter notebooks är genom att skriva ett uttryck (expression).\n",
    "# Ställ muspekaren i denna cell och tryck shift+enter\n",
    "5 + 8"
   ]
  },
  {
   "cell_type": "code",
   "execution_count": null,
   "metadata": {},
   "outputs": [],
   "source": [
    "# Om det finns flera uttryck kommer endast det sista skrivas ut\n",
    "5 + 1\n",
    "7 - 8\n",
    "1.6 * 76 # Endast detta skrivs ut, eftersom det är sist."
   ]
  },
  {
   "cell_type": "markdown",
   "metadata": {},
   "source": [
    "## Variabler"
   ]
  },
  {
   "cell_type": "code",
   "execution_count": null,
   "metadata": {},
   "outputs": [],
   "source": [
    "# Det går utmärkt att skriva variabler i jupyter notebooks\n",
    "test_var = 1234\n",
    "print(test_var)"
   ]
  },
  {
   "cell_type": "code",
   "execution_count": null,
   "metadata": {},
   "outputs": [],
   "source": [
    "# Notera att variablers scope inte påverkas av i vilken cell de är definierade i, så variabeln från ovan lever kvar\n",
    "print(test_var)"
   ]
  },
  {
   "cell_type": "code",
   "execution_count": null,
   "metadata": {},
   "outputs": [],
   "source": [
    "# Det går att sudda alla variabler. Klicka Kernel -> Restart Kernel... och testa att köra denna kod. \n",
    "# Det kommer krasha eftersom vi startat om python-processen som ligger bakom (och alla variabler är resettade)\n",
    "print(test_var)"
   ]
  },
  {
   "cell_type": "code",
   "execution_count": null,
   "metadata": {},
   "outputs": [],
   "source": [
    "# Observera att detta inte alltid är ett beteende som man vill ha!\n",
    "# Kör denna cell för att instantiera en variabel\n",
    "another_var = 1"
   ]
  },
  {
   "cell_type": "code",
   "execution_count": null,
   "metadata": {},
   "outputs": [],
   "source": [
    "# Kör sedan cellen UNDER denna först, innan du kör denna cell.\n",
    "if another_var == 1:\n",
    "  print(\"Allt är frid och fröjd :)\")\n",
    "else:\n",
    "  print(\"Totalt kaos! Jättedåligt att variabeln ändrade sig och inte var det vi trodde!\")"
   ]
  },
  {
   "cell_type": "code",
   "execution_count": null,
   "metadata": {},
   "outputs": [],
   "source": [
    "another_var = -1"
   ]
  },
  {
   "cell_type": "code",
   "execution_count": null,
   "metadata": {},
   "outputs": [],
   "source": [
    "# Så var försiktig!"
   ]
  },
  {
   "cell_type": "markdown",
   "metadata": {},
   "source": [
    "Se till att leka runt lite i jupyter notebooks för att få en känsla av hur det funkar. Exempel på bra sakker att kunna\n",
    "- hoppa in och ur celler med `enter` och `esc`\n",
    "- lägg till cell ovanför med `a` (above) och under med `b` (below). Du måste vara utanför cellen för att det ska funka.\n",
    "- ta bort en cell med `x`. Du måste vara utanför för att det ska funka.\n",
    "- `ctrl-z` och `z` är på notebook- respektive cellnivå.\n",
    "- Det går att sätta på line numbers. View -> Show line numbers"
   ]
  }
 ],
 "metadata": {
  "kernelspec": {
   "display_name": "Python 3",
   "language": "python",
   "name": "python3"
  },
  "language_info": {
   "codemirror_mode": {
    "name": "ipython",
    "version": 3
   },
   "file_extension": ".py",
   "mimetype": "text/x-python",
   "name": "python",
   "nbconvert_exporter": "python",
   "pygments_lexer": "ipython3",
   "version": "3.7.3"
  }
 },
 "nbformat": 4,
 "nbformat_minor": 4
}
