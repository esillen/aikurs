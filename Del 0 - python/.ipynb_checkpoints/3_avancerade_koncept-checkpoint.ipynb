{
 "cells": [
  {
   "cell_type": "markdown",
   "metadata": {},
   "source": [
    "# Avancerade koncept\n",
    "Vi kommer använda några python-koncept som är något mer avancerade. Här är en samling av koncept och features som vi nog kommer att använda i kursen så det är bra att bekanta sig med dem.\n",
    "\n",
    "Se denna notebook som en dokumentation att gå tillbaka till om du har problem med något i python.\n",
    "Och tveka inte att fråga om du kör fast!"
   ]
  },
  {
   "cell_type": "markdown",
   "metadata": {},
   "source": [
    "## Lambdafunktioner (anonyma funktioner)\n"
   ]
  },
  {
   "cell_type": "code",
   "execution_count": null,
   "metadata": {},
   "outputs": [],
   "source": [
    "# Definiera en funktion som tar ett argument och returnerar argumentet + 1\n",
    "a = lambda x: x+1\n",
    "a(55)"
   ]
  },
  {
   "cell_type": "code",
   "execution_count": null,
   "metadata": {},
   "outputs": [],
   "source": [
    "# Sortera med egen sorteringsnyckel (gör om till int)\n",
    "unsorted_list = ['25', 17, 3, '69', 122]\n",
    "sorted_list = sorted(unsorted, key=lambda x: int(x))\n",
    "sorted_list"
   ]
  },
  {
   "cell_type": "markdown",
   "metadata": {},
   "source": [
    "# Map och Filter i python"
   ]
  },
  {
   "cell_type": "code",
   "execution_count": null,
   "metadata": {},
   "outputs": [],
   "source": [
    "# map funkar såhär:\n",
    "# map(function_to_apply, list_of_inputs)\n",
    "words = ['sov', 'du', 'lilla', 'videung']\n",
    "counts = list(map(lambda x : len(x), words)) # Mappa om till antalet bokstäver per ord (list() gör om map-objekt till lista)\n",
    "counts"
   ]
  },
  {
   "cell_type": "code",
   "execution_count": null,
   "metadata": {},
   "outputs": [],
   "source": [
    "# filter funkar såhär:\n",
    "# filter(function_to_apply, list_of_inputs)\n",
    "words = ['sov', 'du', 'lilla', 'videung']\n",
    "counts = list(filter(lambda x : len(x) > 3, words)) # Plocka ut de ord som har fler än 3 bokstäver\n",
    "counts"
   ]
  },
  {
   "cell_type": "markdown",
   "metadata": {},
   "source": [
    "## List comprehension\n",
    "Ett snabbt sätt att göra flera list-operationer i ett smidigt uttryck."
   ]
  },
  {
   "cell_type": "code",
   "execution_count": null,
   "metadata": {},
   "outputs": [],
   "source": [
    "my_list = [1,5,8,21,67]\n",
    "comprehension = [x for x in my_list] # Skapar en kopia på listan (loopa igenom listan och plocka alla x)\n",
    "comprehension"
   ]
  },
  {
   "cell_type": "code",
   "execution_count": null,
   "metadata": {},
   "outputs": [],
   "source": [
    "comprehension_plus_1 = [x+1 for x in my_list] # Plussa 1 på alla element i listan (jämför map!)\n",
    "comprehension_plus_1"
   ]
  },
  {
   "cell_type": "code",
   "execution_count": null,
   "metadata": {},
   "outputs": [],
   "source": [
    "comprehension_filtered = [x for x in my_list if x > 5] # Plocka alla element som är större än 5 (jämför filter!)\n",
    "comprehension_filtered"
   ]
  },
  {
   "cell_type": "code",
   "execution_count": null,
   "metadata": {},
   "outputs": [],
   "source": [
    "comprehension_filtered_else = [x if x > 5 else 0 for x in my_list] # Sätt alla element som inte är större än 5 till 0 (jämför map!)\n",
    "comprehension_filtered_else # Observera positionen av if-else här. Här är if-else del av expression, inte del av filter som det hade varit i slutet av comprehensionen!"
   ]
  }
 ],
 "metadata": {
  "kernelspec": {
   "display_name": "Python 3",
   "language": "python",
   "name": "python3"
  },
  "language_info": {
   "codemirror_mode": {
    "name": "ipython",
    "version": 3
   },
   "file_extension": ".py",
   "mimetype": "text/x-python",
   "name": "python",
   "nbconvert_exporter": "python",
   "pygments_lexer": "ipython3",
   "version": "3.7.3"
  }
 },
 "nbformat": 4,
 "nbformat_minor": 4
}
